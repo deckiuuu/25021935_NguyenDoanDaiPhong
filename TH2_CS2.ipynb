{
  "cells": [
    {
      "cell_type": "code",
      "execution_count": null,
      "metadata": {
        "colab": {
          "base_uri": "https://localhost:8080/"
        },
        "id": "NvzQeziYNfqc",
        "outputId": "513baed1-235e-40f9-f8f4-549c1d8ed2aa"
      },
      "outputs": [
        {
          "name": "stdout",
          "output_type": "stream",
          "text": [
            "phong\n",
            "Xin chao ban phong\n"
          ]
        }
      ],
      "source": [
        "#W2A2\n",
        "'''\n",
        "so1 = int(input()) #nhap tung so tren mot hang\n",
        "so2 = int(input())\n",
        "tong = so1 + so2\n",
        "print(tong)\n",
        "\n",
        "so1, so2 = map(int, input(), split()) #Nhap 2 so tren 1 dong\n",
        "tong = so1 + so2\n",
        "print(tong)\n",
        "'''\n",
        "\n",
        "name = input()\n",
        "print(\"Xin chao ban\", name)"
      ]
    },
    {
      "cell_type": "code",
      "execution_count": null,
      "metadata": {
        "colab": {
          "base_uri": "https://localhost:8080/"
        },
        "id": "NQYi-vwHObVa",
        "outputId": "ed9aab41-8761-481c-95ce-5d5a2e496cc1"
      },
      "outputs": [
        {
          "name": "stdout",
          "output_type": "stream",
          "text": [
            "18/9\n",
            "18 + 9 = 27\n",
            "18 - 9 = 9\n",
            "18 * 9= 162\n",
            "18 / 9 = 2.0\n",
            "18 // 9= 2\n",
            "18 % 9 = 0\n"
          ]
        }
      ],
      "source": [
        "#W2A3\n",
        "a, b = map(int, input(). split('/'))\n",
        "print(f'{a} + {b} = {a+b}')\n",
        "print(f'{a} - {b} = {a-b}')\n",
        "print(f'{a} * {b}= {a*b}')\n",
        "print(f'{a} / {b} = {a/b}')\n",
        "print(f'{a} // {b}= {a//b}')\n",
        "print(f'{a} % {b} = {a%b}')\n"
      ]
    },
    {
      "cell_type": "code",
      "execution_count": null,
      "metadata": {
        "id": "YmQXc7QGTAFs"
      },
      "outputs": [],
      "source": [
        "#W2A5\n",
        "a, b = map(int, input().split())\n",
        "print(f'{a**b}')"
      ]
    },
    {
      "cell_type": "code",
      "execution_count": null,
      "metadata": {
        "colab": {
          "base_uri": "https://localhost:8080/"
        },
        "id": "bv-JnyXBO4P6",
        "outputId": "5cc0e84d-7365-4e71-849a-4e7cb2d5b461"
      },
      "outputs": [
        {
          "name": "stdout",
          "output_type": "stream",
          "text": [
            "97\n",
            "e\n",
            "69 E\n",
            "È\n"
          ]
        }
      ],
      "source": [
        "#W2A6\n",
        "#s = input()\n",
        "#print(s.upper())\n",
        "\n",
        "print(ord('a'))\n",
        "\n",
        "s2 = input()\n",
        "s2 = ord(s2) - 32 ## Trong bang ma 'a' = 97, 'b' = 98, 'z'=122, 'A' = 65\n",
        "\n",
        "print(s2, chr(s2))\n",
        "print(chr(200))"
      ]
    },
    {
      "cell_type": "code",
      "execution_count": null,
      "metadata": {
        "colab": {
          "base_uri": "https://localhost:8080/"
        },
        "id": "44CywG17Ul3s",
        "outputId": "a078f449-8d55-432d-ab50-ea3f55ea4dbf"
      },
      "outputs": [
        {
          "name": "stdout",
          "output_type": "stream",
          "text": [
            "512 512\n"
          ]
        }
      ],
      "source": [
        "#W2A7\n",
        "A = ((13**2)*3) + 5\n",
        "B = (13**2*3 + 5)\n",
        "print(A,B)"
      ]
    },
    {
      "cell_type": "code",
      "execution_count": null,
      "metadata": {
        "colab": {
          "base_uri": "https://localhost:8080/"
        },
        "id": "x3JDMbICVTqm",
        "outputId": "0783d3b5-c6ac-46dc-999d-43907230fe2b"
      },
      "outputs": [
        {
          "name": "stdout",
          "output_type": "stream",
          "text": [
            "19\n",
            "66.20\n"
          ]
        }
      ],
      "source": [
        "#W2A8\n",
        "C = float (input())\n",
        "F = (9/5)*C + 32\n",
        "print(f'{F:.2f}')"
      ]
    },
    {
      "cell_type": "code",
      "execution_count": null,
      "metadata": {
        "colab": {
          "base_uri": "https://localhost:8080/"
        },
        "id": "XI-PX2tDVmFX",
        "outputId": "c9fa0630-c1f1-4de9-e186-a9bfb790d7f3"
      },
      "outputs": [
        {
          "name": "stdout",
          "output_type": "stream",
          "text": [
            "1231230.1231\n",
            "160061.22\n"
          ]
        }
      ],
      "source": [
        "#W2A9\n",
        "a = float(input()) + 10\n",
        "b = ((a + a*0.30) * 0.10)\n",
        "print(f'{b:.2f}')"
      ]
    },
    {
      "cell_type": "code",
      "execution_count": null,
      "metadata": {
        "colab": {
          "base_uri": "https://localhost:8080/"
        },
        "id": "hqQjs-kMWXec",
        "outputId": "25657a21-d793-4515-f4c0-255dfe1b7a56"
      },
      "outputs": [
        {
          "name": "stdout",
          "output_type": "stream",
          "text": [
            "Phong Kaiser Wicckyy\n"
          ]
        }
      ],
      "source": [
        "#W2A10\n",
        "a = ('Wicckyy')\n",
        "b = ('Kaiser')\n",
        "c = ('Phong')\n",
        "a,b,c = c,b,a\n",
        "print(a,b,c)"
      ]
    },
    {
      "cell_type": "code",
      "execution_count": null,
      "metadata": {
        "colab": {
          "base_uri": "https://localhost:8080/"
        },
        "id": "wifx9zdducQk",
        "outputId": "9998324c-9d2d-4449-c6d5-0408e8757288"
      },
      "outputs": [
        {
          "name": "stdout",
          "output_type": "stream",
          "text": [
            "100\n",
            "300\n",
            "378000.0\n"
          ]
        }
      ],
      "source": [
        "#W2A11\n",
        "h = float(input())\n",
        "m = float(input())\n",
        "s = h*3600 + m*60\n",
        "print(s)\n"
      ]
    },
    {
      "cell_type": "code",
      "execution_count": null,
      "metadata": {
        "colab": {
          "base_uri": "https://localhost:8080/"
        },
        "id": "pUcslGD6vBhw",
        "outputId": "6019d9c6-f26e-4d1f-f164-7b76515308b3"
      },
      "outputs": [
        {
          "name": "stdout",
          "output_type": "stream",
          "text": [
            "10\n",
            "60\n"
          ]
        }
      ],
      "source": [
        "#W2A12\n",
        "n = int(input())\n",
        "m = n*6\n",
        "print(m)\n"
      ]
    },
    {
      "cell_type": "code",
      "execution_count": null,
      "metadata": {
        "colab": {
          "base_uri": "https://localhost:8080/"
        },
        "id": "SZCGGhwi0O25",
        "outputId": "5514f278-89f2-4265-db28-d4d7a9336afe"
      },
      "outputs": [
        {
          "name": "stdout",
          "output_type": "stream",
          "text": [
            "10 20\n",
            "0\n"
          ]
        }
      ],
      "source": [
        "#W2A13\n",
        "a,b = map(int, input().split())\n",
        "c = (a*b)%10\n",
        "print(c)"
      ]
    },
    {
      "cell_type": "code",
      "execution_count": null,
      "metadata": {
        "colab": {
          "base_uri": "https://localhost:8080/"
        },
        "id": "tubcgD_V4WMY",
        "outputId": "52b69789-f72d-4cc0-bc29-80880e19b5ba"
      },
      "outputs": [
        {
          "name": "stdout",
          "output_type": "stream",
          "text": [
            "phong\n",
            "ngoc\n",
            "ngoc phong\n"
          ]
        }
      ],
      "source": [
        "#W2A14\n",
        "a = input()\n",
        "b = input()\n",
        "a,b = b,a\n",
        "print(a,b)"
      ]
    },
    {
      "cell_type": "code",
      "execution_count": 2,
      "metadata": {
        "id": "TXnoPxkf4mb6"
      },
      "outputs": [
        {
          "name": "stdout",
          "output_type": "stream",
          "text": [
            "169.0\n"
          ]
        }
      ],
      "source": [
        "#W2A15\n",
        "n = int(input())\n",
        "ss = 1 + 6*((n*(n - 1))/2)\n",
        "if n > 0:\n",
        "    print(ss)\n",
        "else:\n",
        "    print('sai de bai')\n"
      ]
    },
    {
      "cell_type": "code",
      "execution_count": null,
      "metadata": {
        "colab": {
          "base_uri": "https://localhost:8080/"
        },
        "id": "KVHnRbHC50cX",
        "outputId": "021237a6-ffeb-4cd2-c3e6-f7f4f958d1ab"
      },
      "outputs": [
        {
          "name": "stdout",
          "output_type": "stream",
          "text": [
            "Spring\n",
            "Summer\n",
            "Autumn\n",
            "Winter\n",
            "Spring\n",
            "Summer\n",
            "Autumn\n",
            "Winter\n"
          ]
        }
      ],
      "source": [
        "#W2A16\n",
        "print('Spring')\n",
        "print('Summer')\n",
        "print('Autumn')\n",
        "print('Winter')\n",
        "\n",
        "print('Spring\\nSummer\\nAutumn\\nWinter')\n",
        "\n"
      ]
    },
    {
      "cell_type": "code",
      "execution_count": null,
      "metadata": {
        "colab": {
          "base_uri": "https://localhost:8080/"
        },
        "id": "CZXSZd8c7CVW",
        "outputId": "2ea4bff0-ab77-4de1-fb64-f8097fd208c4"
      },
      "outputs": [
        {
          "name": "stdout",
          "output_type": "stream",
          "text": [
            "  *\n",
            " ***\n",
            "*****\n"
          ]
        }
      ],
      "source": [
        "#W2A17\n",
        "print(\" \", \"*\")\n",
        "print(\"\", \"***\")\n",
        "print(\"*****\")"
      ]
    },
    {
      "cell_type": "code",
      "execution_count": null,
      "metadata": {
        "colab": {
          "base_uri": "https://localhost:8080/"
        },
        "id": "XuFPs-M14g_h",
        "outputId": "94c1e530-112b-4d86-fb7b-0e52680eba94"
      },
      "outputs": [
        {
          "name": "stdout",
          "output_type": "stream",
          "text": [
            "### # #  ### ###\n",
            " #  #  #  #   #\n",
            " #  #   # #   #\n",
            " #  #  #  #   #\n",
            " #  # #   #   #\n"
          ]
        }
      ],
      "source": [
        "#W2A18\n",
        "print(\"### # #  ### ###\")\n",
        "print(\" #  #  #  #   #\")\n",
        "print(\" #  #   # #   #\")\n",
        "print(\" #  #  #  #   #\")\n",
        "print(\" #  # #   #   #\")\n"
      ]
    },
    {
      "cell_type": "code",
      "execution_count": null,
      "metadata": {
        "colab": {
          "base_uri": "https://localhost:8080/"
        },
        "id": "LEmPEJmXJuwd",
        "outputId": "42733945-6f4c-4b9d-ccc9-61f57b6e6cf5"
      },
      "outputs": [
        {
          "name": "stdout",
          "output_type": "stream",
          "text": [
            "Monday\n",
            "Tuesday\n",
            "Wednesday\n",
            "Thursday\n",
            "Friday\n",
            "Saturday\n",
            "Sunday\n"
          ]
        }
      ],
      "source": [
        "#W2A19\n",
        "print('Monday\\nTuesday\\nWednesday\\nThursday\\nFriday\\nSaturday\\nSunday')"
      ]
    },
    {
      "cell_type": "code",
      "execution_count": null,
      "metadata": {
        "colab": {
          "base_uri": "https://localhost:8080/"
        },
        "id": "QMR7DOADJfWo",
        "outputId": "7080936f-f0ea-41bd-94df-ae7c479b3c57"
      },
      "outputs": [
        {
          "name": "stdout",
          "output_type": "stream",
          "text": [
            "January\n",
            "February\n",
            "March\n",
            "APril\n",
            "May\n",
            "June\n",
            "July\n",
            "August\n",
            "September\n",
            "November\n",
            "December\n"
          ]
        }
      ],
      "source": [
        "#W2A20\n",
        "print('January\\nFebruary\\nMarch\\nAPril\\nMay\\nJune\\nJuly\\nAugust\\nSeptember\\nNovember\\nDecember')"
      ]
    },
    {
      "cell_type": "code",
      "execution_count": null,
      "metadata": {
        "colab": {
          "base_uri": "https://localhost:8080/"
        },
        "id": "XkiOvXiKKqXW",
        "outputId": "7ec363ce-7da6-46eb-8751-9ba97f54f299"
      },
      "outputs": [
        {
          "name": "stdout",
          "output_type": "stream",
          "text": [
            "Hello,world\n",
            "Hello,world\n",
            "Hello,world\n",
            "Hello,world\n",
            "Hello,world\n",
            "Hello,world\n",
            "Hello,world\n",
            "Hello,world\n",
            "Hello,world\n",
            "Hello,world\n"
          ]
        }
      ],
      "source": [
        "#W2A21\n",
        "A = \"Hello,world\"\n",
        "for i in range (10):\n",
        "  print(A)"
      ]
    }
  ],
  "metadata": {
    "colab": {
      "provenance": []
    },
    "kernelspec": {
      "display_name": "Python 3",
      "name": "python3"
    },
    "language_info": {
      "codemirror_mode": {
        "name": "ipython",
        "version": 3
      },
      "file_extension": ".py",
      "mimetype": "text/x-python",
      "name": "python",
      "nbconvert_exporter": "python",
      "pygments_lexer": "ipython3",
      "version": "3.13.7"
    }
  },
  "nbformat": 4,
  "nbformat_minor": 0
}
