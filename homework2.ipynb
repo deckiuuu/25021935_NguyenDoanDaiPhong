{
 "cells": [
  {
   "cell_type": "code",
   "execution_count": null,
   "id": "56feb446",
   "metadata": {},
   "outputs": [],
   "source": [
    "#B1\n",
    "a,b = map(input().split())\n",
    "S = a*b\n",
    "P = (a+b)*2\n",
    "print('S, P')\n",
    "\n"
   ]
  }
 ],
 "metadata": {
  "language_info": {
   "name": "python"
  }
 },
 "nbformat": 4,
 "nbformat_minor": 5
}
