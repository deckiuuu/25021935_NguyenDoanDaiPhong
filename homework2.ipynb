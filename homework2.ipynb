{
 "cells": [
  {
   "cell_type": "code",
   "execution_count": null,
   "id": "56feb446",
   "metadata": {},
   "outputs": [
    {
     "name": "stdout",
     "output_type": "stream",
     "text": [
      "50676 1070\n"
     ]
    }
   ],
   "source": [
    "#B1\n",
    "a , b = map(int, input().split())\n",
    "S = a*b\n",
    "P = (a+b)*2\n",
    "print(S, P)"
   ]
  },
  {
   "cell_type": "code",
   "execution_count": null,
   "id": "2b4024a2",
   "metadata": {},
   "outputs": [],
   "source": [
    "#B2\n",
    "r = int(input())\n",
    "S = 3.14*r*r\n",
    "C = 2*3.14*r\n",
    "print(S, C)"
   ]
  },
  {
   "cell_type": "code",
   "execution_count": 15,
   "id": "a36f7a5c",
   "metadata": {},
   "outputs": [
    {
     "name": "stdout",
     "output_type": "stream",
     "text": [
      "day la tam giac thuong voi dien tich, chu vi la: 9.921567416492215 15\n"
     ]
    }
   ],
   "source": [
    "#B3\n",
    "a,b,c = map(int, input().split())\n",
    "p = (a+b+c)/2\n",
    "S = (p*(p-a)*(p-b)*(p-c))**0.5\n",
    "P = a+b+c\n",
    "if a+b>c and a+c>b and b+c>a:\n",
    "    if a==b==c:\n",
    "        print('day la tam giac deu voi dien tich, chu vi la:',S, P)\n",
    "    elif a==b or b==c or a==c:\n",
    "        print('day la tam giac can voi dien tich, chu vi la:', S, P)\n",
    "    elif a*a+b*b==c*c or a*a+c*c==b*b or b*b+c*c==a*a:\n",
    "        print('day la tam giac vuong voi dien tich, chu vi la:', S, P)\n",
    "    else:\n",
    "        print('day la tam giac thuong voi dien tich, chu vi la:', S, P)\n",
    "else:\n",
    "    print('day khong phai la 3 canh cua tam giac')\n"
   ]
  },
  {
   "cell_type": "code",
   "execution_count": null,
   "id": "3aaa8f62",
   "metadata": {},
   "outputs": [
    {
     "name": "stdout",
     "output_type": "stream",
     "text": [
      "phuong trinh co nghiem duy nhat x = -1.3333333333333333\n"
     ]
    }
   ],
   "source": [
    "#B4\n",
    "a = float(input())\n",
    "b = float(input())\n",
    "if a == 0:\n",
    "    if b == 0:\n",
    "        print('phuong trinh vo so nghiem')\n",
    "    else:\n",
    "        print('phuong trinh vo nghiem')\n",
    "else:\n",
    "    x = -b/a\n",
    "    print('phuong trinh co nghiem duy nhat x =', x)"
   ]
  },
  {
   "cell_type": "code",
   "execution_count": null,
   "id": "d86ca2b7",
   "metadata": {},
   "outputs": [
    {
     "name": "stdout",
     "output_type": "stream",
     "text": [
      "phuong trinh co 2 nghiem phan biet:\n",
      "x1 = -0.3333333333333333\n",
      "x2 = -1.0\n"
     ]
    }
   ],
   "source": [
    "#B5\n",
    "a,b,c = map(float, input().split())\n",
    "if a == 0:\n",
    "    if b ==0:\n",
    "        if c == 0:\n",
    "            print('phuong trinh vo so nghiem')\n",
    "        else:\n",
    "            print('phuong trinh vo nghiem')\n",
    "    else:\n",
    "        x = -c/b\n",
    "        print('phuong trinh co nghiem duy nhat x =', x)\n",
    "else:\n",
    "    delta = b*b - 4*a*c\n",
    "    if delta < 0:\n",
    "        print('phuong trinh vo nghiem')\n",
    "    elif delta == 0:\n",
    "        x = -b/(2*a)\n",
    "        print('phuong trinh co nghiem kep x1 = x2 =', x)\n",
    "    else:\n",
    "        x1 = (-b + delta**0.5)/(2*a)\n",
    "        x2 = (-b - delta**0.5)/(2*a)\n",
    "        print('phuong trinh co 2 nghiem phan biet:')\n",
    "        print('x1 =', x1)\n",
    "        print('x2 =', x2)\n"
   ]
  },
  {
   "cell_type": "code",
   "execution_count": null,
   "id": "7ff7e25f",
   "metadata": {},
   "outputs": [],
   "source": [
    "#B6\n",
    "a = float(input())\n",
    "b = float(input())\n",
    "c = float(input())\n",
    "d = float(input())\n",
    "if a > b and a>c and a>d:\n",
    "    print(a)\n",
    "if b > a and a>c and a>d:\n",
    "    print(b)\n",
    "if c >a and a>b and a>d:\n",
    "    print(c)\n",
    "if d > a and d>b and d>c:\n",
    "    print(d)"
   ]
  },
  {
   "cell_type": "code",
   "execution_count": 56,
   "id": "d2583f9f",
   "metadata": {},
   "outputs": [
    {
     "name": "stdout",
     "output_type": "stream",
     "text": [
      "2\n"
     ]
    }
   ],
   "source": [
    "#B7\n",
    "a,b,c,d = map(int, input().split())\n",
    "if a < b and a< c and a<d:\n",
    "    print(a)\n",
    "if b < a and b< c and b< d:\n",
    "    print(b)\n",
    "if c < a and c<b and c<d:\n",
    "    print(c)\n",
    "if d<a and d<b and d<c:\n",
    "    print(d)    "
   ]
  },
  {
   "cell_type": "code",
   "execution_count": 71,
   "id": "b0ff1517",
   "metadata": {},
   "outputs": [
    {
     "name": "stdout",
     "output_type": "stream",
     "text": [
      "he phuong trinh co nghiem duy nhat: x= -7.0 y= 7.0\n"
     ]
    }
   ],
   "source": [
    "#B8\n",
    "a,b,c,d,m,n = map(float, input().split())\n",
    "D = a*d - b*c\n",
    "Dx = m*d - b*n\n",
    "Dy = a*n - m*c\n",
    "if D != 0:\n",
    "    x = Dx/D\n",
    "    y = Dy/D\n",
    "    print('he phuong trinh co nghiem duy nhat:','x=', x, 'y=', y)\n",
    "elif Dx == 0 and Dy == 0:\n",
    "        print('he phuong trinh vo so nghiem')\n",
    "else:\n",
    "        print('he phuong trinh vo nghiem')"
   ]
  },
  {
   "cell_type": "code",
   "execution_count": null,
   "id": "1162b04e",
   "metadata": {},
   "outputs": [
    {
     "name": "stdout",
     "output_type": "stream",
     "text": [
      "0.016666666666666666 1.0 60.0\n"
     ]
    }
   ],
   "source": [
    "#B9\n",
    "x = float(input())\n",
    "x_m= x/60\n",
    "x_h= x/3600\n",
    "print(x_h, x_m, x)\n"
   ]
  },
  {
   "cell_type": "code",
   "execution_count": null,
   "id": "bb939ee5",
   "metadata": {},
   "outputs": [
    {
     "name": "stdout",
     "output_type": "stream",
     "text": [
      "diem A nam trong duong tron\n"
     ]
    }
   ],
   "source": [
    "#B10\n",
    "Ox,Oy =map(float, input().split())\n",
    "r = float(input())\n",
    "Ax, Ay = map(float, input().split())\n",
    "d = ((Ax-Ox)**2 + (Ay-Oy)**2)**0.5\n",
    "if d<r:\n",
    "    print('diem A nam trong duong tron')\n",
    "elif d==r:\n",
    "    print('diem A nam tren duong tron')\n",
    "else:\n",
    "    print('diem A nam ngoai duong tron')"
   ]
  },
  {
   "cell_type": "code",
   "execution_count": null,
   "id": "e53d4615",
   "metadata": {},
   "outputs": [
    {
     "name": "stdout",
     "output_type": "stream",
     "text": [
      "144.0\n"
     ]
    }
   ],
   "source": [
    "#B11\n",
    "x = float(input())\n",
    "y = float(input())\n",
    "a = x**y\n",
    "print(a)"
   ]
  }
 ],
 "metadata": {
  "kernelspec": {
   "display_name": "Python 3",
   "language": "python",
   "name": "python3"
  },
  "language_info": {
   "codemirror_mode": {
    "name": "ipython",
    "version": 3
   },
   "file_extension": ".py",
   "mimetype": "text/x-python",
   "name": "python",
   "nbconvert_exporter": "python",
   "pygments_lexer": "ipython3",
   "version": "3.13.7"
  }
 },
 "nbformat": 4,
 "nbformat_minor": 5
}
