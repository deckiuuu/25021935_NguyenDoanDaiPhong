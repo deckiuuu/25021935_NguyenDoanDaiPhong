{
  "nbformat": 4,
  "nbformat_minor": 0,
  "metadata": {
    "colab": {
      "provenance": []
    },
    "kernelspec": {
      "name": "python3",
      "display_name": "Python 3"
    },
    "language_info": {
      "name": "python"
    }
  },
  "cells": [
    {
      "cell_type": "code",
      "execution_count": null,
      "metadata": {
        "colab": {
          "base_uri": "https://localhost:8080/"
        },
        "id": "ofOpM0bb5Ri3",
        "outputId": "6c743e65-ab03-4a21-9e7b-3524cbdbe0cb"
      },
      "outputs": [
        {
          "output_type": "stream",
          "name": "stdout",
          "text": [
            "hello world\n"
          ]
        }
      ],
      "source": [
        "print (\"hello world\")"
      ]
    },
    {
      "cell_type": "code",
      "source": [
        "#W1A1\n",
        "a = 7\n",
        "b = 5\n",
        "c = a - b\n",
        "print(type(a), c, b, sep= \"=\", end= \"/t\")"
      ],
      "metadata": {
        "colab": {
          "base_uri": "https://localhost:8080/"
        },
        "id": "0hrNc3vMKm71",
        "outputId": "c54734e3-fbcc-454e-b8f7-5c60993e9d23"
      },
      "execution_count": null,
      "outputs": [
        {
          "output_type": "stream",
          "name": "stdout",
          "text": [
            "<class 'int'>=2=5/t"
          ]
        }
      ]
    },
    {
      "cell_type": "code",
      "source": [
        "#W1A2\n",
        "city = \"Ha Noi\"\n",
        "year = 2025\n",
        "print(\"Thanh Pho\", city, \"- Nam\", year)\n",
        "print(type(city))\n",
        "print(type(False))\n"
      ],
      "metadata": {
        "colab": {
          "base_uri": "https://localhost:8080/"
        },
        "id": "T9D1VLTsAWpc",
        "outputId": "23462307-ba69-401f-f799-6b3442fcaf4f"
      },
      "execution_count": null,
      "outputs": [
        {
          "output_type": "stream",
          "name": "stdout",
          "text": [
            "Thanh Pho Ha Noi - Nam 2025\n",
            "<class 'str'>\n",
            "<class 'bool'>\n"
          ]
        }
      ]
    },
    {
      "cell_type": "code",
      "source": [
        "#W1A3\n",
        "n = 4\n",
        "t = 0\n",
        "for i in range (1, n+1):\n",
        "    t += i #t = t + i\n",
        "print(t)"
      ],
      "metadata": {
        "colab": {
          "base_uri": "https://localhost:8080/"
        },
        "id": "nGlajyAzCLbp",
        "outputId": "896e465f-ad1c-4943-d360-025da0aa0285"
      },
      "execution_count": null,
      "outputs": [
        {
          "output_type": "stream",
          "name": "stdout",
          "text": [
            "10\n"
          ]
        }
      ]
    },
    {
      "cell_type": "code",
      "source": [
        "#W1A4\n",
        "numbers = [1, 2, 3, 4]\n",
        "for x in numbers:\n",
        "  if x % 2 == 0:\n",
        "   print(\"so chan\", x)\n",
        "  else:\n",
        "   print(\"so le\", x)"
      ],
      "metadata": {
        "colab": {
          "base_uri": "https://localhost:8080/"
        },
        "id": "2mN7Ci7qDTks",
        "outputId": "398d0dad-80f3-4bbe-b902-5b923fffca2b"
      },
      "execution_count": null,
      "outputs": [
        {
          "output_type": "stream",
          "name": "stdout",
          "text": [
            "so le 1\n",
            "so chan 2\n",
            "so le 3\n",
            "so chan 4\n"
          ]
        }
      ]
    },
    {
      "cell_type": "code",
      "source": [
        "#W1A5\n",
        "animals = [\"cat\", \"dog\", \"cat\", \"penguin\"]\n",
        "count = 0\n",
        "for a in animals:\n",
        "    count += 1# count = count + 1\n",
        "print(\"so phan tu trong danh sach\", count)"
      ],
      "metadata": {
        "colab": {
          "base_uri": "https://localhost:8080/"
        },
        "id": "AsMOX-nvEMO4",
        "outputId": "59c966e2-4e61-4a52-95ec-b2df3320ea9b"
      },
      "execution_count": null,
      "outputs": [
        {
          "output_type": "stream",
          "name": "stdout",
          "text": [
            "so phan tu trong danh sach 4\n"
          ]
        }
      ]
    },
    {
      "cell_type": "code",
      "source": [
        "#W1A6\n",
        "=== AI Prediction System ===\n",
        "1) Sentiment analysis)\n",
        "2) Weather forecast\n",
        "3) Exit\n",
        "Please choose an option:"
      ],
      "metadata": {
        "colab": {
          "base_uri": "https://localhost:8080/",
          "height": 106
        },
        "id": "FZQn5PeUFPT2",
        "outputId": "fb619f7b-1663-4b16-a014-ad22d52a2b22"
      },
      "execution_count": null,
      "outputs": [
        {
          "output_type": "error",
          "ename": "SyntaxError",
          "evalue": "unmatched ')' (ipython-input-2580633489.py, line 3)",
          "traceback": [
            "\u001b[0;36m  File \u001b[0;32m\"/tmp/ipython-input-2580633489.py\"\u001b[0;36m, line \u001b[0;32m3\u001b[0m\n\u001b[0;31m    1) Sentiment analysis)\u001b[0m\n\u001b[0m     ^\u001b[0m\n\u001b[0;31mSyntaxError\u001b[0m\u001b[0;31m:\u001b[0m unmatched ')'\n"
          ]
        }
      ]
    },
    {
      "cell_type": "code",
      "source": [
        "#W1A7\n",
        "num = int(input(\"nhap so nguyen\"))\n",
        "if num % 2 == 0:\n",
        "  print(\"so chan\")\n",
        "else:\n",
        "  print(\"so le\")\n"
      ],
      "metadata": {
        "id": "qxkRfRS2GyPx"
      },
      "execution_count": null,
      "outputs": []
    },
    {
      "cell_type": "code",
      "source": [
        "#W1A8\n",
        "for i in range (3): #di theo khoang (0,2)\n",
        "  print(\"AI dang hoc lan\", i +1)\n",
        "print(\"huan luyen xong!\")"
      ],
      "metadata": {
        "id": "yiq6qCVeHhT2"
      },
      "execution_count": null,
      "outputs": []
    },
    {
      "cell_type": "code",
      "source": [
        "#W1A9\n",
        "for x in [\"cat\", \"dog\", \"fish\"]: #di theo list luon\n",
        "   print(\"du doan con vat\", x)"
      ],
      "metadata": {
        "id": "2Wl1exevIIDy"
      },
      "execution_count": null,
      "outputs": []
    },
    {
      "cell_type": "code",
      "source": [
        "#W1A10\n",
        "# Simple menu\n",
        "print(\"=== AI Prediction System ===\")\n",
        "print(\"1) Sentiment layer\")\n",
        "print(\"2) Weather forecast\")\n",
        "print(\"3) Exit\")\n",
        "print(\"Please chooose an option:\")"
      ],
      "metadata": {
        "id": "4FZFRFPlI0sA"
      },
      "execution_count": null,
      "outputs": []
    }
  ]
}