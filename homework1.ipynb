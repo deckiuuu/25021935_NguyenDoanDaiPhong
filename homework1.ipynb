{
 "cells": [
  {
   "cell_type": "code",
   "execution_count": 1,
   "id": "98d6fdcf",
   "metadata": {},
   "outputs": [
    {
     "name": "stdout",
     "output_type": "stream",
     "text": [
      "8\n"
     ]
    }
   ],
   "source": [
    "#B1\n",
    "n = int(input())\n",
    "b = n*2\n",
    "print(b)\n"
   ]
  },
  {
   "cell_type": "code",
   "execution_count": 6,
   "id": "7daa01cb",
   "metadata": {},
   "outputs": [
    {
     "name": "stdout",
     "output_type": "stream",
     "text": [
      "16.80\n"
     ]
    }
   ],
   "source": [
    "#B2\n",
    "a,b = map(float, input().split())\n",
    "pi = 3.14\n",
    "So = pi*(a/2)**2\n",
    "Scl = a*b - So\n",
    "print(f\"{Scl:.2f}\")\n",
    "\n",
    "\n"
   ]
  },
  {
   "cell_type": "code",
   "execution_count": 14,
   "id": "2ac820c9",
   "metadata": {},
   "outputs": [
    {
     "name": "stdout",
     "output_type": "stream",
     "text": [
      "a\n"
     ]
    }
   ],
   "source": [
    "#B3\n",
    "c = input()\n",
    "if len(c) == 1:\n",
    "    if(c.isupper()):\n",
    "        ch_lower = chr(ord(c)+32)\n",
    "        print(ch_lower)\n",
    "    else: \n",
    "        ch_upper = chr(ord(c)-32)\n",
    "        print(ch_upper)\n",
    "else:\n",
    "    print(\"day k phai 1 ki tu\")\n"
   ]
  },
  {
   "cell_type": "code",
   "execution_count": null,
   "id": "a641c3f3",
   "metadata": {},
   "outputs": [
    {
     "name": "stdout",
     "output_type": "stream",
     "text": [
      "A la ky tu alphabet\n"
     ]
    }
   ],
   "source": [
    "#B4\n",
    "c = input()\n",
    "if len(c) == 1:\n",
    "    if (c.isalpha() == True):\n",
    "        print(f\"{c} la ky tu alphabet\")\n",
    "    else:\n",
    "        print(f\"{c} khong phai ky tu alphabet\")\n",
    "        \n",
    "else:\n",
    "    print(f\"{c} khong phai mot ky tu\")\n"
   ]
  },
  {
   "cell_type": "code",
   "execution_count": 20,
   "id": "34c43115",
   "metadata": {},
   "outputs": [
    {
     "name": "stdout",
     "output_type": "stream",
     "text": [
      "chu ban nhap k phai chu in hoa\n"
     ]
    }
   ],
   "source": [
    "#B5\n",
    "A = input()\n",
    "if (A.isupper() == True):\n",
    "    x = A.lower()\n",
    "    print(chr(ord(x)+1))\n",
    "else:\n",
    "    print('chu ban nhap k phai chu in hoa')\n"
   ]
  },
  {
   "cell_type": "code",
   "execution_count": 24,
   "id": "5103e2e3",
   "metadata": {},
   "outputs": [
    {
     "name": "stdout",
     "output_type": "stream",
     "text": [
      "9.1\n"
     ]
    }
   ],
   "source": [
    "#B6\n",
    "a,b,c = map(float, input().split())\n",
    "if a+b>c and a+c>b and b+c>a:\n",
    "    p = (a+b+c)/2\n",
    "    S = (p*(p-a)*(p-b)*(p-c))**0.5\n",
    "    print(f\"{S:.1f}\")\n",
    "else:\n",
    "    print(\"3 canh tren khong tao thanh tam giac\")\n"
   ]
  },
  {
   "cell_type": "code",
   "execution_count": null,
   "id": "d0940f85",
   "metadata": {},
   "outputs": [
    {
     "name": "stdout",
     "output_type": "stream",
     "text": [
      "ban khong nhap du 20 ky tu\n"
     ]
    }
   ],
   "source": [
    "#B7\n",
    "c = input()\n",
    "if c.islower() == True:\n",
    "    if len(c) == 20 or len(c) >20:\n",
    "        print(c[5], c[20])\n",
    "    else:\n",
    "        print('ban khong nhap du 20 ky tu')\n",
    "else:\n",
    "    print('ban nhap khong phai chu thuong')"
   ]
  },
  {
   "cell_type": "code",
   "execution_count": null,
   "id": "637cc7f6",
   "metadata": {},
   "outputs": [
    {
     "name": "stdout",
     "output_type": "stream",
     "text": [
      "Ho va ten: phong\n",
      " Tien phai tra la: 476000\n"
     ]
    }
   ],
   "source": [
    "#B8\n",
    "Ten_chu_ho = input()\n",
    "Cs_sau, Cs_truoc = map(int, input().split()) \n",
    "So_dien = Cs_sau - Cs_truoc\n",
    "Tien_dien = 0\n",
    "if So_dien > 400:\n",
    "    Tien_dien += So_dien*3460\n",
    "if So_dien > 300 and So_dien <= 400:\n",
    "    Tien_dien += So_dien*3350\n",
    "if So_dien > 200 and So_dien <= 300:\n",
    "    Tien_dien += So_dien*2998\n",
    "if So_dien > 100 and So_dien <= 200:\n",
    "    Tien_dien += So_dien*2380\n",
    "if So_dien <= 50:\n",
    "    Tien_dien += So_dien * 1984\n",
    "if So_dien > 50 and So_dien <= 100:\n",
    "    Tien_dien += So_dien*2050\n",
    "print(f\"Ho va ten: {Ten_chu_ho}\\nTien phai tra la: {Tien_dien}\")\n",
    "\n",
    "\n",
    "\n",
    "\n",
    "\n",
    "\n",
    "\n",
    "\n",
    "\n",
    "\n",
    "\n"
   ]
  }
 ],
 "metadata": {
  "kernelspec": {
   "display_name": "Python 3",
   "language": "python",
   "name": "python3"
  },
  "language_info": {
   "codemirror_mode": {
    "name": "ipython",
    "version": 3
   },
   "file_extension": ".py",
   "mimetype": "text/x-python",
   "name": "python",
   "nbconvert_exporter": "python",
   "pygments_lexer": "ipython3",
   "version": "3.13.7"
  }
 },
 "nbformat": 4,
 "nbformat_minor": 5
}
