{
 "cells": [
  {
   "cell_type": "code",
   "execution_count": 1,
   "id": "98d6fdcf",
   "metadata": {},
   "outputs": [
    {
     "name": "stdout",
     "output_type": "stream",
     "text": [
      "8\n"
     ]
    }
   ],
   "source": [
    "#B1\n",
    "n = int(input())\n",
    "b = n*2\n",
    "print(b)\n"
   ]
  },
  {
   "cell_type": "code",
   "execution_count": 6,
   "id": "7daa01cb",
   "metadata": {},
   "outputs": [
    {
     "name": "stdout",
     "output_type": "stream",
     "text": [
      "16.80\n"
     ]
    }
   ],
   "source": [
    "#B2\n",
    "a,b = map(float, input().split())\n",
    "pi = 3.14\n",
    "So = pi*(a/2)**2\n",
    "Scl = a*b - So\n",
    "print(f\"{Scl:.2f}\")\n",
    "\n",
    "\n"
   ]
  },
  {
   "cell_type": "code",
   "execution_count": null,
   "id": "2ac820c9",
   "metadata": {},
   "outputs": [],
   "source": [
    "#B3\n",
    "c = input()\n",
    "if len(c) == 1:\n",
    "    if(c.isupper()):\n",
    "        ch_lower = chr(ord(c) - 32)\n",
    "        print(ch_lower)\n",
    "    else:\n",
    "        ch_upper = chr(ord(c) + 32)\n",
    "        print(ch_upper)\n",
    "else:\n",
    "    print(\"day k phai 1 ki tu\")\n"
   ]
  },
  {
   "cell_type": "code",
   "execution_count": null,
   "id": "a641c3f3",
   "metadata": {},
   "outputs": [
    {
     "name": "stdout",
     "output_type": "stream",
     "text": [
      "A la ky tu alphabet\n"
     ]
    }
   ],
   "source": [
    "#B4\n",
    "c = input()\n",
    "if len(c) == 1:\n",
    "    if (c.isalpha() == True):\n",
    "        print(f\"{c} la ky tu alphabet\")\n",
    "    else:\n",
    "        print(f\"{c} khong phai ky tu alphabet\")\n",
    "        \n",
    "else:\n",
    "    print(f\"{c} khong phai mot ky tu\")\n"
   ]
  },
  {
   "cell_type": "markdown",
   "id": "20c0d924",
   "metadata": {},
   "source": [
    "#B4"
   ]
  }
 ],
 "metadata": {
  "kernelspec": {
   "display_name": "Python 3",
   "language": "python",
   "name": "python3"
  },
  "language_info": {
   "codemirror_mode": {
    "name": "ipython",
    "version": 3
   },
   "file_extension": ".py",
   "mimetype": "text/x-python",
   "name": "python",
   "nbconvert_exporter": "python",
   "pygments_lexer": "ipython3",
   "version": "3.13.7"
  }
 },
 "nbformat": 4,
 "nbformat_minor": 5
}
