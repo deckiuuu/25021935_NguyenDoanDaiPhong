{
 "cells": [
  {
   "cell_type": "code",
   "execution_count": null,
   "id": "0d53ce58",
   "metadata": {},
   "outputs": [
    {
     "name": "stdout",
     "output_type": "stream",
     "text": [
      "x = 45\n",
      "y = 32\n"
     ]
    }
   ],
   "source": [
    "#W3A2\n",
    "x = '32'\n",
    "y = '45'\n",
    "x = int(x)\n",
    "y = int(y)\n",
    "x = x ^ y\n",
    "y = x ^ y\n",
    "x = x ^ y\n",
    "print(\"x =\", x)\n",
    "print(\"y =\", y)"
   ]
  },
  {
   "cell_type": "code",
   "execution_count": 79,
   "id": "c4a5722d",
   "metadata": {},
   "outputs": [
    {
     "name": "stdout",
     "output_type": "stream",
     "text": [
      "day khong phai la luy thua cua 2\n"
     ]
    }
   ],
   "source": [
    "#W3A3\n",
    "n = float(input())\n",
    "if int(n) & int(n-1) == 0:\n",
    "    print('day la luy thua cua 2')\n",
    "else:\n",
    "    print('day khong phai la luy thua cua 2')"
   ]
  },
  {
   "cell_type": "code",
   "execution_count": null,
   "id": "7a3a759c",
   "metadata": {},
   "outputs": [
    {
     "name": "stdout",
     "output_type": "stream",
     "text": [
      "3\n"
     ]
    }
   ],
   "source": [
    "#W3A4\n",
    "import math\n",
    "m,n = map(float, input().split())\n",
    "x = m/n\n",
    "print(math.floor(x))"
   ]
  },
  {
   "cell_type": "code",
   "execution_count": 58,
   "id": "176ebe99",
   "metadata": {},
   "outputs": [
    {
     "name": "stdout",
     "output_type": "stream",
     "text": [
      "4\n"
     ]
    }
   ],
   "source": [
    "#W3A5\n",
    "import math\n",
    "m,n = map(float, input().split())\n",
    "x = m/n\n",
    "print(math.ceil(x))"
   ]
  },
  {
   "cell_type": "code",
   "execution_count": null,
   "id": "b356e09e",
   "metadata": {},
   "outputs": [
    {
     "name": "stdout",
     "output_type": "stream",
     "text": [
      "Day la so le\n"
     ]
    }
   ],
   "source": [
    "#W3A6\n",
    "x = int(input())\n",
    "if x > 0: \n",
    "    if x % 2 == 0:\n",
    "        print('Even')\n",
    "    else:\n",
    "        print('Odd')\n",
    "else:\n",
    "    print('Day khong phai la so nguyen duong')"
   ]
  },
  {
   "cell_type": "code",
   "execution_count": 22,
   "id": "3b9d2b14",
   "metadata": {},
   "outputs": [
    {
     "name": "stdout",
     "output_type": "stream",
     "text": [
      "No\n"
     ]
    }
   ],
   "source": [
    "#W3A7\n",
    "a,b =map(int, input().split())\n",
    "if a*b > 0:\n",
    "    if a <0:\n",
    "        print('Yes')\n",
    "    else:\n",
    "        print('No')\n",
    "else:\n",
    "    print('No')\n"
   ]
  },
  {
   "cell_type": "code",
   "execution_count": null,
   "id": "ddd442d2",
   "metadata": {},
   "outputs": [
    {
     "name": "stdout",
     "output_type": "stream",
     "text": [
      "Day khong phai chu thuong\n"
     ]
    }
   ],
   "source": [
    "#W3A8\n",
    "a, b = map(str, input().split())\n",
    "if a.islower() == True and b.islower() == True:\n",
    "    if len(a) > len(b):\n",
    "        print('True')\n",
    "    else:\n",
    "        print('False')\n",
    "else:\n",
    "    print('Day khong phai chu thuong')"
   ]
  },
  {
   "cell_type": "code",
   "execution_count": null,
   "id": "58b5e509",
   "metadata": {},
   "outputs": [
    {
     "name": "stdout",
     "output_type": "stream",
     "text": [
      "Day khong phai la so nguyen duong\n"
     ]
    }
   ],
   "source": [
    "#W3A9\n",
    "a, b, c = map(int, input().split())\n",
    "if a > 0 and b > 0 and c>0:\n",
    "    if a + b > c and a + c > b and b + c > a:\n",
    "        print('Yes')\n",
    "    else:\n",
    "        print('No')\n",
    "else:\n",
    "    print('Day khong phai la so nguyen duong')"
   ]
  },
  {
   "cell_type": "code",
   "execution_count": null,
   "id": "1e88d5c3",
   "metadata": {},
   "outputs": [
    {
     "name": "stdout",
     "output_type": "stream",
     "text": [
      "213\n"
     ]
    }
   ],
   "source": [
    "#W3A10\n",
    "a,b,c,d = map(int, input().split())\n",
    "largest = max(a,b,c,d)\n",
    "print(largest)"
   ]
  },
  {
   "cell_type": "code",
   "execution_count": null,
   "id": "f781f9fa",
   "metadata": {},
   "outputs": [],
   "source": [
    "#W3A11\n",
    "a,b,c = map(int, input().split())\n",
    "if a > 0 and b > 0 and c > 0:\n",
    "    if a < b + c and b < a + c and c < a + b:\n",
    "        if a == b and b == c and a == c:\n",
    "            print('Tam giac deu')\n",
    "        elif a == b or b == c or a == c:\n",
    "            print('Tam giac can')\n",
    "        else:\n",
    "            print('Tam giac thuong')\n",
    "    else:\n",
    "        print('Day khong phai tam giac')\n",
    "else:\n",
    "    print('Day khong phai la so nguyen duong')"
   ]
  },
  {
   "cell_type": "code",
   "execution_count": 25,
   "id": "0d0fc0c7",
   "metadata": {},
   "outputs": [
    {
     "name": "stdout",
     "output_type": "stream",
     "text": [
      "Yes\n"
     ]
    }
   ],
   "source": [
    "#W3A12\n",
    "n = int(input())\n",
    "if n > 0:\n",
    "    if n % 4 == 0 and n % 100 != 0 or n % 400 == 0:\n",
    "        print('Yes')\n",
    "    else:\n",
    "        print('No')\n",
    "else:\n",
    "    print('Day khong phai la so nguyen duong')  "
   ]
  },
  {
   "cell_type": "code",
   "execution_count": 31,
   "id": "eb210953",
   "metadata": {},
   "outputs": [
    {
     "name": "stdout",
     "output_type": "stream",
     "text": [
      "phuong trinh co nghiem: -0.97\n"
     ]
    }
   ],
   "source": [
    "#W3A14\n",
    "a,b = map(float, input().split())\n",
    "if a == 0 and b == 0:\n",
    "    print('phuong trinh co vo so nghiem')\n",
    "elif a == 0 and b !=0: \n",
    "    print('phuong trinh vo nhgiem')\n",
    "else:\n",
    "    x = -b/a\n",
    "    print(f'phuong trinh co nghiem: {x:.2f}')\n",
    "\n"
   ]
  },
  {
   "cell_type": "code",
   "execution_count": 35,
   "id": "48aa3b6b",
   "metadata": {},
   "outputs": [
    {
     "name": "stdout",
     "output_type": "stream",
     "text": [
      "Diem khong hop le\n"
     ]
    }
   ],
   "source": [
    "#W3A15\n",
    "a = float(input())\n",
    "if 0 <= a <= 10:\n",
    "    if a >= 8 :\n",
    "        print('hoc luc gioi')\n",
    "    elif a >= 6.5 and a <= 8:\n",
    "        print('hoc luc kha')\n",
    "    elif a >= 5 and a < 6.5:\n",
    "        print('hoc luc trung binh')\n",
    "    elif a < 5:\n",
    "        print('hoc luc yeu')\n",
    "else:\n",
    "    print('Diem khong hop le')\n",
    "    \n"
   ]
  },
  {
   "cell_type": "code",
   "execution_count": 73,
   "id": "1455226e",
   "metadata": {},
   "outputs": [
    {
     "name": "stdout",
     "output_type": "stream",
     "text": [
      "lam tron len, xuong, toi so nguyen gan nhat la: 10.0 9.0 10.0\n"
     ]
    }
   ],
   "source": [
    "#W3A16\n",
    "a = float(input())\n",
    "phan_nguyen = a // 1\n",
    "phan_du = a - phan_nguyen\n",
    "if a == phan_nguyen:\n",
    "    print('khong can lam tron')\n",
    "else:\n",
    "    x = phan_nguyen + 1\n",
    "    y = phan_nguyen\n",
    "if phan_du >= 0.5:\n",
    "    print('lam tron len, xuong, toi so nguyen gan nhat la:', x,y,x)\n",
    "else:\n",
    "    print('lam tron len, xuong, toi so nguyen gan nhat la:', x,y,y)  \n",
    "\n"
   ]
  },
  {
   "cell_type": "code",
   "execution_count": 74,
   "id": "a0aac00f",
   "metadata": {},
   "outputs": [
    {
     "name": "stdout",
     "output_type": "stream",
     "text": [
      "Day la cap so nhan\n"
     ]
    }
   ],
   "source": [
    "#W3A17\n",
    "a,b,c,d = map(float, input().split())\n",
    "if b % a == 0:\n",
    "    x = b / a\n",
    "else:\n",
    "    print('Khong phai cap so nhan')\n",
    "if b*x == c and c*x == d:\n",
    "    print('Day la cap so nhan')\n",
    "else:\n",
    "    print('Day khong phai cap so nhan')\n"
   ]
  },
  {
   "cell_type": "code",
   "execution_count": 67,
   "id": "e8aad0fa",
   "metadata": {},
   "outputs": [
    {
     "name": "stdout",
     "output_type": "stream",
     "text": [
      "53\n"
     ]
    }
   ],
   "source": [
    "x = 53.5\n",
    "print(int(x))"
   ]
  }
 ],
 "metadata": {
  "kernelspec": {
   "display_name": "Python 3",
   "language": "python",
   "name": "python3"
  },
  "language_info": {
   "codemirror_mode": {
    "name": "ipython",
    "version": 3
   },
   "file_extension": ".py",
   "mimetype": "text/x-python",
   "name": "python",
   "nbconvert_exporter": "python",
   "pygments_lexer": "ipython3",
   "version": "3.13.7"
  }
 },
 "nbformat": 4,
 "nbformat_minor": 5
}
